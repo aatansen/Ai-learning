{
 "cells": [
  {
   "cell_type": "markdown",
   "id": "0b7adef7",
   "metadata": {},
   "source": [
    "### Lambda Functions"
   ]
  },
  {
   "cell_type": "code",
   "execution_count": 1,
   "id": "209a78e2",
   "metadata": {},
   "outputs": [],
   "source": [
    "#creating a function using lamda that adds two numbers\n",
    "def addCertainNumber(value):\n",
    "    return lambda x : x + value"
   ]
  },
  {
   "cell_type": "code",
   "execution_count": 2,
   "id": "4f15bb88",
   "metadata": {},
   "outputs": [],
   "source": [
    "# \"add10\" is now a function that calls addCertainNumber and sets value to 10\n",
    "add10 = addCertainNumber(10)"
   ]
  },
  {
   "cell_type": "code",
   "execution_count": 3,
   "id": "ea3f5ab2",
   "metadata": {},
   "outputs": [
    {
     "name": "stdout",
     "output_type": "stream",
     "text": [
      "15\n"
     ]
    }
   ],
   "source": [
    "# calling \"add10\" and setting the parameter to 5 gives 10+5 = 15\n",
    "print(add10(5))"
   ]
  },
  {
   "cell_type": "markdown",
   "id": "f064b2e8",
   "metadata": {},
   "source": [
    "### Counting to 10 using \"while\" loops"
   ]
  },
  {
   "cell_type": "code",
   "execution_count": 4,
   "id": "0bafd784",
   "metadata": {},
   "outputs": [],
   "source": [
    "#first set a counter\n",
    "count=0"
   ]
  },
  {
   "cell_type": "code",
   "execution_count": 5,
   "id": "0f1606f4",
   "metadata": {},
   "outputs": [
    {
     "name": "stdout",
     "output_type": "stream",
     "text": [
      "The count is:  0\n",
      "The count is:  1\n",
      "The count is:  2\n",
      "The count is:  3\n",
      "The count is:  4\n",
      "The count is:  5\n",
      "The count is:  6\n",
      "The count is:  7\n",
      "The count is:  8\n",
      "The count is:  9\n",
      "The count is:  10\n",
      "END OF LOOP!\n"
     ]
    }
   ],
   "source": [
    "#now start the \"while\" loop\n",
    "while (count<11): #count is less than 11 \n",
    "    print (\"The count is: \", count) #printing the result\n",
    "    count = count + 1 #incrementing the value of count\n",
    "print (\"END OF LOOP!\") #once the loop ends, this gets printed"
   ]
  },
  {
   "cell_type": "markdown",
   "id": "6bb6fe3f",
   "metadata": {},
   "source": [
    "### Nested Loops"
   ]
  },
  {
   "cell_type": "code",
   "execution_count": 6,
   "id": "2f363d6b",
   "metadata": {},
   "outputs": [
    {
     "name": "stdout",
     "output_type": "stream",
     "text": [
      "10 equals 2 multiplied by 5.0\n",
      "11 is a prime number\n",
      "12 equals 2 multiplied by 6.0\n",
      "13 is a prime number\n",
      "14 equals 2 multiplied by 7.0\n",
      "15 equals 3 multiplied by 5.0\n",
      "16 equals 2 multiplied by 8.0\n",
      "17 is a prime number\n",
      "18 equals 2 multiplied by 9.0\n",
      "19 is a prime number\n"
     ]
    }
   ],
   "source": [
    "# search for prime numbers in an interval using \"for\" loops\n",
    "\n",
    "for num in range(10,20):        # to iterate from 10 to 20\n",
    "    for i in range(2,num):      # to iterate between the factors of the number\n",
    "        if (num%i)==0:          # to determine the first factor\n",
    "            j=num/i             # to calculate the second factor\n",
    "            print(num, \"equals\", i, \"multiplied by\", j)\n",
    "            break               # to move to the next number\n",
    "    else:\n",
    "        print (num, \"is a prime number\")"
   ]
  },
  {
   "cell_type": "code",
   "execution_count": 7,
   "id": "e288ed00",
   "metadata": {},
   "outputs": [
    {
     "name": "stdout",
     "output_type": "stream",
     "text": [
      "2 is prime\n",
      "3 is prime\n",
      "5 is prime\n",
      "7 is prime\n",
      "11 is prime\n",
      "13 is prime\n",
      "17 is prime\n",
      "19 is prime\n",
      "23 is prime\n",
      "29 is prime\n",
      "31 is prime\n",
      "37 is prime\n",
      "41 is prime\n",
      "43 is prime\n",
      "47 is prime\n",
      "53 is prime\n",
      "59 is prime\n",
      "61 is prime\n",
      "67 is prime\n",
      "71 is prime\n",
      "73 is prime\n",
      "79 is prime\n",
      "83 is prime\n",
      "89 is prime\n",
      "97 is prime\n",
      "END OF LOOP\n"
     ]
    }
   ],
   "source": [
    "# search for prime numbers from 2 to 100 using while loops\n",
    "\n",
    "i=2                             \n",
    "while (i<100):                  \n",
    "    j=2                         \n",
    "    while (j <= (i/j)):         \n",
    "        if not (i%j):           \n",
    "            break\n",
    "        j = j+1\n",
    "    if (j > (i/j)):\n",
    "        print (i, \"is prime\")\n",
    "    i = i+1\n",
    "print(\"END OF LOOP\")"
   ]
  }
 ],
 "metadata": {
  "kernelspec": {
   "display_name": "Python 3",
   "language": "python",
   "name": "python3"
  },
  "language_info": {
   "codemirror_mode": {
    "name": "ipython",
    "version": 3
   },
   "file_extension": ".py",
   "mimetype": "text/x-python",
   "name": "python",
   "nbconvert_exporter": "python",
   "pygments_lexer": "ipython3",
   "version": "3.8.8"
  }
 },
 "nbformat": 4,
 "nbformat_minor": 5
}
