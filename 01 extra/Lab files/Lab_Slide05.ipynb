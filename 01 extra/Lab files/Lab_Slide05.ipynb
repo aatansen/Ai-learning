{
 "cells": [
  {
   "cell_type": "markdown",
   "id": "cbcf22ce",
   "metadata": {},
   "source": [
    "# NumPy Exercises"
   ]
  },
  {
   "cell_type": "markdown",
   "id": "4de51fba",
   "metadata": {},
   "source": [
    "1. Import numpy as np and see the version\n",
    "\n",
    "2. How to create a 1D array?\n",
    "\n",
    "3. How to extract items that satisfy a given condition from 1D array?\n",
    "\n",
    "4. How to replace items that satisfy a condition with another value in numpy array?\n",
    "\n",
    "5. How to reshape an array?\n",
    "\n",
    "6. How to stack two arrays vertically?\n",
    "\n",
    "7. How to stack two arrays horizontally?\n",
    "\n",
    "8. How to get the positions where elements of two arrays match?\n",
    "\n",
    "9. How to reverse the columns of a 2D array?\n",
    "\n",
    "10. How to compute the euclidean distance between two arrays?"
   ]
  },
  {
   "cell_type": "code",
   "execution_count": 1,
   "id": "6d5915b4",
   "metadata": {},
   "outputs": [
    {
     "name": "stdout",
     "output_type": "stream",
     "text": [
      "1.21.1\n"
     ]
    }
   ],
   "source": [
    "import numpy as np\n",
    "print(np.__version__)"
   ]
  },
  {
   "cell_type": "code",
   "execution_count": 2,
   "id": "d07f7726",
   "metadata": {},
   "outputs": [
    {
     "data": {
      "text/plain": [
       "array([0, 1, 2, 3, 4, 5, 6, 7, 8, 9])"
      ]
     },
     "execution_count": 2,
     "metadata": {},
     "output_type": "execute_result"
    }
   ],
   "source": [
    "arr = np.arange(10)\n",
    "arr"
   ]
  },
  {
   "cell_type": "code",
   "execution_count": 12,
   "id": "f3aa824f",
   "metadata": {},
   "outputs": [
    {
     "data": {
      "text/plain": [
       "array([1, 3, 5, 7, 9])"
      ]
     },
     "execution_count": 12,
     "metadata": {},
     "output_type": "execute_result"
    }
   ],
   "source": [
    "# Input\n",
    "arr = np.array([0, 1, 2, 3, 4, 5, 6, 7, 8, 9])\n",
    "\n",
    "# Solution\n",
    "arr_odd = arr[arr % 2 == 1]\n",
    "arr_odd"
   ]
  },
  {
   "cell_type": "code",
   "execution_count": 4,
   "id": "d3183646",
   "metadata": {},
   "outputs": [
    {
     "data": {
      "text/plain": [
       "array([ 0, -1,  2, -1,  4, -1,  6, -1,  8, -1])"
      ]
     },
     "execution_count": 4,
     "metadata": {},
     "output_type": "execute_result"
    }
   ],
   "source": [
    "arr[arr % 2 == 1] = -1\n",
    "arr"
   ]
  },
  {
   "cell_type": "code",
   "execution_count": 17,
   "id": "96aca0f0",
   "metadata": {},
   "outputs": [
    {
     "name": "stdout",
     "output_type": "stream",
     "text": [
      "[0 1 2 3 4 5 6 7 8 9]\n"
     ]
    },
    {
     "data": {
      "text/plain": [
       "array([[0],\n",
       "       [1],\n",
       "       [2],\n",
       "       [3],\n",
       "       [4],\n",
       "       [5],\n",
       "       [6],\n",
       "       [7],\n",
       "       [8],\n",
       "       [9]])"
      ]
     },
     "execution_count": 17,
     "metadata": {},
     "output_type": "execute_result"
    }
   ],
   "source": [
    "arr = np.arange(10)\n",
    "print(arr)\n",
    "arr.reshape(10, -1)  # Setting to -1 automatically decides the number of columns"
   ]
  },
  {
   "cell_type": "code",
   "execution_count": 6,
   "id": "97ac85bc",
   "metadata": {},
   "outputs": [
    {
     "name": "stdout",
     "output_type": "stream",
     "text": [
      "a \n",
      " [[0 1 2 3 4]\n",
      " [5 6 7 8 9]]\n",
      "b \n",
      " [[1 1 1 1 1]\n",
      " [1 1 1 1 1]]\n",
      "x \n",
      " [[0 1 2 3 4]\n",
      " [5 6 7 8 9]\n",
      " [1 1 1 1 1]\n",
      " [1 1 1 1 1]]\n",
      "y \n",
      " [[0 1 2 3 4]\n",
      " [5 6 7 8 9]\n",
      " [1 1 1 1 1]\n",
      " [1 1 1 1 1]]\n",
      "z \n",
      " [[0 1 2 3 4]\n",
      " [5 6 7 8 9]\n",
      " [1 1 1 1 1]\n",
      " [1 1 1 1 1]]\n"
     ]
    }
   ],
   "source": [
    "a = np.arange(10).reshape(2,-1)\n",
    "print('a \\n', a)\n",
    "b = np.repeat(1, 10).reshape(2,-1)\n",
    "print('b \\n', b)\n",
    "\n",
    "# Answers\n",
    "# Method 1:\n",
    "x = np.concatenate([a, b], axis=0)\n",
    "print('x \\n', x)\n",
    "\n",
    "# Method 2:\n",
    "y = np.vstack([a, b])\n",
    "print('y \\n', y)\n",
    "\n",
    "# Method 3:\n",
    "z = np.r_[a, b]\n",
    "print('z \\n', z)"
   ]
  },
  {
   "cell_type": "code",
   "execution_count": 18,
   "id": "a3aa0954",
   "metadata": {},
   "outputs": [
    {
     "name": "stdout",
     "output_type": "stream",
     "text": [
      "a \n",
      " [[0 1 2 3 4]\n",
      " [5 6 7 8 9]]\n",
      "b \n",
      " [[1 1 1 1 1]\n",
      " [1 1 1 1 1]]\n",
      "x \n",
      " [[0 1 2 3 4 1 1 1 1 1]\n",
      " [5 6 7 8 9 1 1 1 1 1]]\n",
      "y \n",
      " [[0 1 2 3 4 1 1 1 1 1]\n",
      " [5 6 7 8 9 1 1 1 1 1]]\n",
      "z \n",
      " [[0 1 2 3 4 1 1 1 1 1]\n",
      " [5 6 7 8 9 1 1 1 1 1]]\n"
     ]
    }
   ],
   "source": [
    "a = np.arange(10).reshape(2,-1)\n",
    "print('a \\n', a)\n",
    "b = np.repeat(1, 10).reshape(2,-1)\n",
    "print('b \\n', b)\n",
    "\n",
    "# Answers\n",
    "# Method 1:\n",
    "x = np.concatenate([a, b], axis=1)\n",
    "print('x \\n', x)\n",
    "\n",
    "# Method 2:\n",
    "y = np.hstack([a, b])\n",
    "print('y \\n', y)\n",
    "\n",
    "# Method 3:\n",
    "z = np.c_[a, b]\n",
    "print('z \\n', z)"
   ]
  },
  {
   "cell_type": "code",
   "execution_count": 20,
   "id": "bbf6fc0e",
   "metadata": {},
   "outputs": [
    {
     "data": {
      "text/plain": [
       "array([[ 1,  2,  3,  4,  5],\n",
       "       [ 6,  7,  8,  9, 10]])"
      ]
     },
     "execution_count": 20,
     "metadata": {},
     "output_type": "execute_result"
    }
   ],
   "source": [
    "c = a+b\n",
    "c"
   ]
  },
  {
   "cell_type": "code",
   "execution_count": 21,
   "id": "b7e08683",
   "metadata": {},
   "outputs": [
    {
     "data": {
      "text/plain": [
       "(array([1, 3, 5, 7]),)"
      ]
     },
     "execution_count": 21,
     "metadata": {},
     "output_type": "execute_result"
    }
   ],
   "source": [
    "a = np.array([1,2,3,2,3,4,3,4,5,6])\n",
    "b = np.array([7,2,10,2,7,4,9,4,9,8])\n",
    "\n",
    "same = np.where(a == b)\n",
    "same"
   ]
  },
  {
   "cell_type": "code",
   "execution_count": 9,
   "id": "1886f194",
   "metadata": {},
   "outputs": [
    {
     "name": "stdout",
     "output_type": "stream",
     "text": [
      "[[0 1 2]\n",
      " [3 4 5]\n",
      " [6 7 8]]\n"
     ]
    },
    {
     "data": {
      "text/plain": [
       "array([[2, 1, 0],\n",
       "       [5, 4, 3],\n",
       "       [8, 7, 6]])"
      ]
     },
     "execution_count": 9,
     "metadata": {},
     "output_type": "execute_result"
    }
   ],
   "source": [
    "# Input\n",
    "arr = np.arange(9).reshape(3,3)\n",
    "print(arr)\n",
    "\n",
    "# Solution\n",
    "arr[:, ::-1]"
   ]
  },
  {
   "cell_type": "code",
   "execution_count": 22,
   "id": "6484558b",
   "metadata": {},
   "outputs": [
    {
     "name": "stdout",
     "output_type": "stream",
     "text": [
      "Array:  [ 9  4 15  0 17 16 17  8  9  0]\n",
      "[4 2 6 0 8 7 9 3 5 1]\n"
     ]
    }
   ],
   "source": [
    "np.random.seed(10)\n",
    "a = np.random.randint(20, size=10)\n",
    "print('Array: ', a)\n",
    "print(a.argsort().argsort())"
   ]
  },
  {
   "cell_type": "markdown",
   "id": "e1c3dd05",
   "metadata": {},
   "source": [
    "The Euclidean distance formula is used to find the distance between two points on a plane. This formula says the distance between two points (x1, y1) and (x2, y2) is d = √[(x2 – x1)^2 + (y2 – y1)^2]."
   ]
  },
  {
   "cell_type": "code",
   "execution_count": 11,
   "id": "0688ff7d",
   "metadata": {},
   "outputs": [
    {
     "data": {
      "text/plain": [
       "6.708203932499369"
      ]
     },
     "execution_count": 11,
     "metadata": {},
     "output_type": "execute_result"
    }
   ],
   "source": [
    "# Input\n",
    "a = np.array([1,2,3,4,5])\n",
    "b = np.array([4,5,6,7,8])\n",
    "# Solution\n",
    "dist = np.linalg.norm(a-b)\n",
    "dist"
   ]
  }
 ],
 "metadata": {
  "kernelspec": {
   "display_name": "Python 3",
   "language": "python",
   "name": "python3"
  },
  "language_info": {
   "codemirror_mode": {
    "name": "ipython",
    "version": 3
   },
   "file_extension": ".py",
   "mimetype": "text/x-python",
   "name": "python",
   "nbconvert_exporter": "python",
   "pygments_lexer": "ipython3",
   "version": "3.8.8"
  }
 },
 "nbformat": 4,
 "nbformat_minor": 5
}
