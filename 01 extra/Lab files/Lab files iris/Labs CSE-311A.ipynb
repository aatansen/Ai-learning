{
 "cells": [
  {
   "cell_type": "code",
   "execution_count": 1,
   "id": "dea1218d",
   "metadata": {},
   "outputs": [],
   "source": [
    "import numpy as np\n",
    "import scipy.stats\n",
    "import matplotlib.pyplot as plt\n",
    "import pandas as pd"
   ]
  },
  {
   "cell_type": "markdown",
   "id": "1d4f27c1",
   "metadata": {},
   "source": [
    "# Data Checking"
   ]
  },
  {
   "cell_type": "code",
   "execution_count": 2,
   "id": "c644cf7b",
   "metadata": {},
   "outputs": [],
   "source": [
    "# Read the iris.csv as a data frame\n",
    "# Your file path might be different\n",
    "iris = pd.read_csv('./iris.csv')"
   ]
  },
  {
   "cell_type": "code",
   "execution_count": 3,
   "id": "1fba7f96",
   "metadata": {},
   "outputs": [
    {
     "name": "stdout",
     "output_type": "stream",
     "text": [
      "First 5 lines\n",
      "   sepalLength  sepalWidth  petalLength  petalWidth      species\n",
      "0          5.1         3.5          1.4         0.2  Iris-setosa\n",
      "1          4.9         3.0          1.4         0.2  Iris-setosa\n",
      "2          4.7         3.2          1.3         0.2  Iris-setosa\n",
      "3          4.6         3.1          1.5         0.2  Iris-setosa\n",
      "4          5.0         3.6          1.4         0.2  Iris-setosa\n",
      "Randomly select 10 lines\n",
      "     sepalLength  sepalWidth  petalLength  petalWidth          species\n",
      "47           4.6         3.2          1.4         0.2      Iris-setosa\n",
      "3            4.6         3.1          1.5         0.2      Iris-setosa\n",
      "31           5.4         3.4          1.5         0.4      Iris-setosa\n",
      "25           5.0         3.0          1.6         0.2      Iris-setosa\n",
      "15           5.7         4.4          1.5         0.4      Iris-setosa\n",
      "118          7.7         2.6          6.9         2.3   Iris-virginica\n",
      "89           5.5         2.5          4.0         1.3  Iris-versicolor\n",
      "6            4.6         3.4          1.4         0.3      Iris-setosa\n",
      "103          6.3         2.9          5.6         1.8   Iris-virginica\n",
      "65           6.7         3.1          4.4         1.4  Iris-versicolor\n",
      "88           5.6         3.0          4.1         1.3  Iris-versicolor\n",
      "38           4.4         3.0          1.3         0.2      Iris-setosa\n",
      "92           5.8         2.6          4.0         1.2  Iris-versicolor\n",
      "53           5.5         2.3          4.0         1.3  Iris-versicolor\n",
      "140          6.7         3.1          5.6         2.4   Iris-virginica\n",
      "40           5.0         3.5          1.3         0.3      Iris-setosa\n",
      "72           6.3         2.5          4.9         1.5  Iris-versicolor\n",
      "135          7.7         3.0          6.1         2.3   Iris-virginica\n",
      "113          5.7         2.5          5.0         2.0   Iris-virginica\n",
      "42           4.4         3.2          1.3         0.2      Iris-setosa\n",
      "126          6.2         2.8          4.8         1.8   Iris-virginica\n",
      "112          6.8         3.0          5.5         2.1   Iris-virginica\n",
      "141          6.9         3.1          5.1         2.3   Iris-virginica\n",
      "76           6.8         2.8          4.8         1.4  Iris-versicolor\n",
      "5            5.4         3.9          1.7         0.4      Iris-setosa\n",
      "109          7.2         3.6          6.1         2.5   Iris-virginica\n",
      "134          6.1         2.6          5.6         1.4   Iris-virginica\n",
      "67           5.8         2.7          4.1         1.0  Iris-versicolor\n",
      "57           4.9         2.4          3.3         1.0  Iris-versicolor\n",
      "86           6.7         3.1          4.7         1.5  Iris-versicolor\n",
      "Shape\n",
      "(150, 5)\n",
      "Info\n",
      "<class 'pandas.core.frame.DataFrame'>\n",
      "RangeIndex: 150 entries, 0 to 149\n",
      "Data columns (total 5 columns):\n",
      " #   Column       Non-Null Count  Dtype  \n",
      "---  ------       --------------  -----  \n",
      " 0   sepalLength  150 non-null    float64\n",
      " 1   sepalWidth   150 non-null    float64\n",
      " 2   petalLength  150 non-null    float64\n",
      " 3   petalWidth   150 non-null    float64\n",
      " 4   species      150 non-null    object \n",
      "dtypes: float64(4), object(1)\n",
      "memory usage: 6.0+ KB\n",
      "None\n",
      "Description\n",
      "        sepalLength  sepalWidth  petalLength  petalWidth         species\n",
      "count    150.000000  150.000000   150.000000  150.000000             150\n",
      "unique          NaN         NaN          NaN         NaN               3\n",
      "top             NaN         NaN          NaN         NaN  Iris-virginica\n",
      "freq            NaN         NaN          NaN         NaN              50\n",
      "mean       5.843333    3.054000     3.758667    1.198667             NaN\n",
      "std        0.828066    0.433594     1.764420    0.763161             NaN\n",
      "min        4.300000    2.000000     1.000000    0.100000             NaN\n",
      "25%        5.100000    2.800000     1.600000    0.300000             NaN\n",
      "50%        5.800000    3.000000     4.350000    1.300000             NaN\n",
      "75%        6.400000    3.300000     5.100000    1.800000             NaN\n",
      "max        7.900000    4.400000     6.900000    2.500000             NaN\n",
      "Max values\n",
      "                 sepalLength  sepalWidth  petalLength  petalWidth\n",
      "species                                                          \n",
      "Iris-setosa              5.8         4.4          1.9         0.6\n",
      "Iris-versicolor          7.0         3.4          5.1         1.8\n",
      "Iris-virginica           7.9         3.8          6.9         2.5\n",
      "********************************************************************************\n",
      "Min values\n",
      "                 sepalLength  sepalWidth  petalLength  petalWidth\n",
      "species                                                          \n",
      "Iris-setosa              4.3         2.3          1.0         0.1\n",
      "Iris-versicolor          4.9         2.0          3.0         1.0\n",
      "Iris-virginica           4.9         2.2          4.5         1.4\n"
     ]
    },
    {
     "data": {
      "image/png": "[encoded data removed]",
      "text/plain": [
       "<Figure size 432x288 with 16 Axes>"
      ]
     },
     "metadata": {
      "needs_background": "light"
     },
     "output_type": "display_data"
    }
   ],
   "source": [
    "print(\"First 5 lines\")\n",
    "print(iris.head(5))\n",
    "print(\"Randomly select 10 lines\")\n",
    "# Use random_state for reproducibility\n",
    "# Pay attention to the index selected\n",
    "print(iris.sample(30, random_state=3))\n",
    "print(\"Shape\")\n",
    "print(iris.shape)\n",
    "print(\"Info\")\n",
    "print(iris.info())\n",
    "print(\"Description\")\n",
    "# Use include='all' to show all columns\n",
    "print(iris.describe(include='all'))\n",
    "# Check missing values\n",
    "iris.isna().sum()\n",
    "# Save as another csv if applicable\n",
    "# Your file path might be different\n",
    "iris.to_csv('./iris_cleaned.csv')\n",
    "# Mean value by species\n",
    "iris.groupby('species').mean()\n",
    "# Max and min value by species\n",
    "print('Max values')\n",
    "print(iris.groupby('species').max())\n",
    "print('*'*80)\n",
    "print('Min values')\n",
    "print(iris.groupby('species').min())\n",
    "# Scatter matrix\n",
    "pd.plotting.scatter_matrix(iris)\n",
    "# Save the plot\n",
    "plt.savefig('iris_scatter_matrix.png')"
   ]
  },
  {
   "cell_type": "markdown",
   "id": "c5798c15",
   "metadata": {},
   "source": [
    "# Data Loading"
   ]
  },
  {
   "cell_type": "code",
   "execution_count": 4,
   "id": "6c431205",
   "metadata": {},
   "outputs": [],
   "source": [
    "from sklearn import datasets"
   ]
  },
  {
   "cell_type": "code",
   "execution_count": 5,
   "id": "25dd293f",
   "metadata": {},
   "outputs": [],
   "source": [
    "iris = datasets.load_iris()"
   ]
  },
  {
   "cell_type": "code",
   "execution_count": 6,
   "id": "0f9df329",
   "metadata": {},
   "outputs": [],
   "source": [
    "iris_data = iris.data\n",
    "iris_label = iris.target\n",
    "iris_featureName = iris.feature_names\n",
    "iris_className = iris.target_names"
   ]
  },
  {
   "cell_type": "markdown",
   "id": "8373b075",
   "metadata": {},
   "source": [
    "# Data Exploration"
   ]
  },
  {
   "cell_type": "code",
   "execution_count": 7,
   "id": "a6cfe14e",
   "metadata": {},
   "outputs": [
    {
     "name": "stdout",
     "output_type": "stream",
     "text": [
      "Iris data shape: (150, 4)\n",
      "***\n",
      "Iris data type: <class 'numpy.ndarray'>\n",
      "***\n",
      "Iris features: ['sepal length (cm)', 'sepal width (cm)', 'petal length (cm)', 'petal width (cm)']\n",
      "***\n",
      "Iris data: [[5.1 3.5 1.4 0.2]\n",
      " [4.9 3.  1.4 0.2]\n",
      " [4.7 3.2 1.3 0.2]]\n",
      "***\n",
      "Iris label shape: (150,)\n",
      "***\n",
      "Iris class names: ['setosa' 'versicolor' 'virginica']\n",
      "***\n",
      "Iris labels: [0 0 0]\n"
     ]
    }
   ],
   "source": [
    "print(\"Iris data shape:\", iris_data.shape)\n",
    "print(\"***\")\n",
    "print(\"Iris data type:\",type(iris_data))\n",
    "print(\"***\")\n",
    "print(\"Iris features:\",iris_featureName)\n",
    "print(\"***\")\n",
    "print(\"Iris data:\",iris_data[:3, :])\n",
    "print(\"***\")\n",
    "print(\"Iris label shape:\", iris_label.shape)\n",
    "print(\"***\")\n",
    "print(\"Iris class names:\",iris_className)\n",
    "print(\"***\")\n",
    "print(\"Iris labels:\",iris_label[:3])"
   ]
  },
  {
   "cell_type": "markdown",
   "id": "ace6a37b",
   "metadata": {},
   "source": [
    "# Data Transformation"
   ]
  },
  {
   "cell_type": "code",
   "execution_count": 8,
   "id": "252cb9ad",
   "metadata": {},
   "outputs": [],
   "source": [
    "from sklearn.preprocessing import StandardScaler\n",
    "from sklearn.preprocessing import MinMaxScaler"
   ]
  },
  {
   "cell_type": "code",
   "execution_count": 9,
   "id": "acf6ccd8",
   "metadata": {},
   "outputs": [
    {
     "data": {
      "text/plain": [
       "array([1., 1., 1., 1.])"
      ]
     },
     "execution_count": 9,
     "metadata": {},
     "output_type": "execute_result"
    }
   ],
   "source": [
    "# Z-score\n",
    "scaler_z = StandardScaler()\n",
    "iris_z = scaler_z.fit(iris_data).transform(iris_data)\n",
    "# Original mean for four features\n",
    "iris_data.mean(axis=0)\n",
    "# Mean for four features after scaling\n",
    "iris_z.mean(axis=0)\n",
    "# Examine the standard deviation\n",
    "iris_z.std(axis=0)\n",
    "# Min-max scaling\n",
    "scaler_mm = MinMaxScaler()\n",
    "iris_mm = scaler_mm.fit(iris_data).transform(iris_data)\n",
    "# Original min for four features\n",
    "iris_data.min(axis=0)\n",
    "# Min for four features after scaling\n",
    "iris_mm.min(axis=0)\n",
    "# Examine the maximum\n",
    "iris_mm.max(axis=0)"
   ]
  },
  {
   "cell_type": "code",
   "execution_count": 10,
   "id": "ab3bc8a7",
   "metadata": {},
   "outputs": [],
   "source": [
    "# Visualisation\n",
    "from matplotlib import pyplot as plt"
   ]
  },
  {
   "cell_type": "code",
   "execution_count": 11,
   "id": "31815213",
   "metadata": {},
   "outputs": [
    {
     "data": {
      "image/png": "[encoded data removed]",
      "text/plain": [
       "<Figure size 432x288 with 2 Axes>"
      ]
     },
     "metadata": {
      "needs_background": "light"
     },
     "output_type": "display_data"
    }
   ],
   "source": [
    "plt.figure()\n",
    "plt.scatter(iris_data[:, 0], iris_data[:, 1], c=iris_label)\n",
    "plt.colorbar(ticks=[0, 1, 2],\n",
    "             format=plt.FuncFormatter(lambda i, *args: iris_className[int(i)]))\n",
    "plt.xlabel(iris_className[0])\n",
    "plt.ylabel(iris_className[1])\n",
    "plt.title(\"Original Iris Dataset\")\n",
    "plt.show()"
   ]
  },
  {
   "cell_type": "code",
   "execution_count": 12,
   "id": "b6a74b09",
   "metadata": {},
   "outputs": [
    {
     "data": {
      "image/png": "[encoded data removed]",
      "text/plain": [
       "<Figure size 432x288 with 2 Axes>"
      ]
     },
     "metadata": {
      "needs_background": "light"
     },
     "output_type": "display_data"
    }
   ],
   "source": [
    "plt.figure()\n",
    "plt.scatter(iris_z[:, 0], iris_z[:, 1], c=iris_label)\n",
    "plt.colorbar(ticks=[0, 1, 2],\n",
    "             format=plt.FuncFormatter(lambda i, *args: iris_className[int(i)]))\n",
    "plt.xlabel(iris_className[0])\n",
    "plt.ylabel(iris_className[1])\n",
    "plt.title(\"After scaling Iris Dataset\")\n",
    "plt.show()"
   ]
  },
  {
   "cell_type": "markdown",
   "id": "7a7e9330",
   "metadata": {},
   "source": [
    "# Data Modelling\n",
    "## Supervised Learning"
   ]
  },
  {
   "cell_type": "code",
   "execution_count": 13,
   "id": "fbfaa20a",
   "metadata": {},
   "outputs": [],
   "source": [
    "# Step 1: Import libraries\n",
    "import sklearn\n",
    "import scipy.stats\n",
    "import numpy as np\n",
    "import matplotlib.pyplot as plt"
   ]
  },
  {
   "cell_type": "code",
   "execution_count": 14,
   "id": "884fc8d8",
   "metadata": {},
   "outputs": [],
   "source": [
    "#  Step 2: Create a 2D NumPy array X and a 1D NumPy array y to constitute a \n",
    "#  labelled data set with six 2D data points (denoted by X) and their \n",
    "#  corresponding labels (denoted by y):\n",
    "import numpy as np\n",
    "X = np.array([[1, 2], [3, 4], [5, 6], [7, 8], [9, 10], [11, 12]])\n",
    "y = np.array([0, 0, 1, 1, 1, 1])"
   ]
  },
  {
   "cell_type": "code",
   "execution_count": 15,
   "id": "e6998ae4",
   "metadata": {},
   "outputs": [],
   "source": [
    "from sklearn.model_selection import train_test_split"
   ]
  },
  {
   "cell_type": "code",
   "execution_count": 16,
   "id": "11e187db",
   "metadata": {},
   "outputs": [],
   "source": [
    "# Step 3: Apply holdout to partition the data set (obtained in Step 2) into \n",
    "#  a training set and a test set, with 2/3 for training and 1/3 for testing, \n",
    "#  and display the partition result.\n",
    "X_train, X_test, y_train, y_test = train_test_split(X, y, test_size=0.33, \n",
    "                                                        random_state=0)"
   ]
  },
  {
   "cell_type": "code",
   "execution_count": 17,
   "id": "361d15ab",
   "metadata": {},
   "outputs": [
    {
     "name": "stdout",
     "output_type": "stream",
     "text": [
      "Training features: \n",
      "[[ 3  4]\n",
      " [ 7  8]\n",
      " [ 1  2]\n",
      " [ 9 10]]\n",
      "\n",
      "Training labels: \n",
      "[0 1 0 1]\n"
     ]
    }
   ],
   "source": [
    "# Training data\n",
    "print(\"Training features: \\n%s\\n\\nTraining labels: \\n%s\" % (X_train, y_train))"
   ]
  },
  {
   "cell_type": "code",
   "execution_count": 18,
   "id": "2170e1c2",
   "metadata": {},
   "outputs": [
    {
     "name": "stdout",
     "output_type": "stream",
     "text": [
      "Test features: \n",
      "[[11 12]\n",
      " [ 5  6]]\n",
      "\n",
      "Test labels: \n",
      "[1 1]\n"
     ]
    }
   ],
   "source": [
    "# Test data\n",
    "print(\"Test features: \\n%s\\n\\nTest labels: \\n%s\" % (X_test, y_test))"
   ]
  },
  {
   "cell_type": "code",
   "execution_count": 19,
   "id": "1189d21a",
   "metadata": {},
   "outputs": [
    {
     "name": "stdout",
     "output_type": "stream",
     "text": [
      "[Fold] train index: [0 3 4] test index: [1 2 5]\n",
      "[Fold] train index: [1 2 5] test index: [0 3 4]\n"
     ]
    }
   ],
   "source": [
    "#  Step 4: Apply 2-fold cross-validation to partition the data set (obtained \n",
    "#  in Step 2), and display the partition results.\n",
    "from sklearn.model_selection import KFold\n",
    "kfCV = KFold(n_splits=2, random_state=0, shuffle=True)\n",
    "split = kfCV.split(X)\n",
    "for train_index, test_index in split:\n",
    "  print(\"[Fold]\", 'train index:', train_index, 'test index:', test_index)"
   ]
  },
  {
   "cell_type": "code",
   "execution_count": 20,
   "id": "5b34bc86",
   "metadata": {},
   "outputs": [
    {
     "name": "stdout",
     "output_type": "stream",
     "text": [
      "Training features: \n",
      "[[ 7  8]\n",
      " [ 9 10]\n",
      " [11 12]]\n",
      "\n",
      "Training labels: \n",
      "[1 1 1]\n"
     ]
    }
   ],
   "source": [
    "# You can then use the indeces to get the training and test data\n",
    "# E.g. to get the training data using the index [3, 4, 5]\n",
    "X_train_fold_1 = X[[3, 4, 5]]\n",
    "y_train_fold_1 = y[[3, 4, 5]]\n",
    "print(\"Training features: \\n%s\\n\\nTraining labels: \\n%s\" % (X_train_fold_1, \n",
    "                                                            y_train_fold_1))"
   ]
  },
  {
   "cell_type": "code",
   "execution_count": 21,
   "id": "c6bd64b8",
   "metadata": {},
   "outputs": [
    {
     "name": "stdout",
     "output_type": "stream",
     "text": [
      "[Fold]: train index: [1 4 5] test index: [0 2 3]\n",
      "[Fold]: train index: [0 2 3] test index: [1 4 5]\n"
     ]
    }
   ],
   "source": [
    "#  Step 5: Apply stratified 2-fold cross-validation to partition the data set \n",
    "#  (obtained in Step 2) and display the partition results.\n",
    "from sklearn.model_selection import StratifiedKFold\n",
    "skfCV = StratifiedKFold(n_splits=2)\n",
    "for train_index, test_index in skfCV.split(X, y):\n",
    "    print('[Fold]:', 'train index:', train_index, 'test index:', test_index)"
   ]
  },
  {
   "cell_type": "code",
   "execution_count": 22,
   "id": "510b3c49",
   "metadata": {},
   "outputs": [
    {
     "name": "stdout",
     "output_type": "stream",
     "text": [
      "[Fold]: train index: [1 2 3 4 5] test index: [0]\n",
      "[Fold]: train index: [0 2 3 4 5] test index: [1]\n",
      "[Fold]: train index: [0 1 3 4 5] test index: [2]\n",
      "[Fold]: train index: [0 1 2 4 5] test index: [3]\n",
      "[Fold]: train index: [0 1 2 3 5] test index: [4]\n",
      "[Fold]: train index: [0 1 2 3 4] test index: [5]\n"
     ]
    }
   ],
   "source": [
    "#  Step 6: Apply leave-one-out cross-validation to partition the data set \n",
    "#  (obtained in Step 2) and display the partition results.\n",
    "from sklearn.model_selection import LeaveOneOut\n",
    "looCV = LeaveOneOut()\n",
    "for train_index, test_index in looCV.split(X):\n",
    "    print('[Fold]:', 'train index:', train_index, 'test index:', test_index)"
   ]
  },
  {
   "cell_type": "code",
   "execution_count": 23,
   "id": "1e48519c",
   "metadata": {},
   "outputs": [],
   "source": [
    "# Step 1: Load the Boston house data set via the dataset loading utility in sklearn:\n",
    "from sklearn import datasets\n",
    "boston = datasets.load_boston()\n",
    "X = boston.data\n",
    "y = boston.target"
   ]
  },
  {
   "cell_type": "code",
   "execution_count": 24,
   "id": "e14c7bb7",
   "metadata": {},
   "outputs": [],
   "source": [
    "# Step 2: Split the data into a training and a testing set, \n",
    "# with 80% for training and 20% for testing.\n",
    "X_train, X_test, y_train, y_test = train_test_split(X, y, test_size=0.2, \n",
    "                                                        random_state=0)"
   ]
  },
  {
   "cell_type": "code",
   "execution_count": 25,
   "id": "addadab9",
   "metadata": {},
   "outputs": [
    {
     "data": {
      "text/plain": [
       "(404,)"
      ]
     },
     "execution_count": 25,
     "metadata": {},
     "output_type": "execute_result"
    }
   ],
   "source": [
    "# Check the dimensions\n",
    "X_train.shape\n",
    "y_train.shape"
   ]
  },
  {
   "cell_type": "code",
   "execution_count": 26,
   "id": "dff10f90",
   "metadata": {},
   "outputs": [],
   "source": [
    "# Step 3: Train the multiple linear regression model on the training set.\n",
    "from sklearn.linear_model import LinearRegression\n",
    "lr = LinearRegression()\n",
    "lr_trained = lr.fit(X_train, y_train)\n",
    "y_pred = lr_trained.predict(X_test)"
   ]
  },
  {
   "cell_type": "code",
   "execution_count": 27,
   "id": "3021d6a7",
   "metadata": {},
   "outputs": [
    {
     "name": "stdout",
     "output_type": "stream",
     "text": [
      "3.842909220444498\n"
     ]
    }
   ],
   "source": [
    "# Step 4: Evaluate the performance of the trained model on the test set in \n",
    "# terms of the Mean Absolute Error (MAE).\n",
    "from sklearn.metrics import mean_absolute_error\n",
    "mae = mean_absolute_error(y_test, y_pred)\n",
    "print(mae)"
   ]
  },
  {
   "cell_type": "code",
   "execution_count": 28,
   "id": "e563cfad",
   "metadata": {},
   "outputs": [
    {
     "data": {
      "text/plain": [
       "3.842909220444498"
      ]
     },
     "execution_count": 28,
     "metadata": {},
     "output_type": "execute_result"
    }
   ],
   "source": [
    "# Since most data in sklearn are np arrays\n",
    "# You can easily calculate this by your own using the numpy methods\n",
    "# This is how you check your result\n",
    "np.mean(np.abs(y_test - y_pred))"
   ]
  },
  {
   "cell_type": "code",
   "execution_count": 29,
   "id": "6a5d3766",
   "metadata": {},
   "outputs": [],
   "source": [
    "# Load the Iris data set via the dataset loading utility in sklearn:\n",
    "from sklearn import datasets\n",
    "iris = datasets.load_iris()\n",
    "X = iris.data\n",
    "y = iris.target"
   ]
  },
  {
   "cell_type": "code",
   "execution_count": 30,
   "id": "7a7fde7b",
   "metadata": {},
   "outputs": [
    {
     "name": "stdout",
     "output_type": "stream",
     "text": [
      "(150, 4) (150,)\n"
     ]
    }
   ],
   "source": [
    "# Check shape and confirm they have the same row number\n",
    "print(X.shape, y.shape)"
   ]
  },
  {
   "cell_type": "code",
   "execution_count": 31,
   "id": "b8559be6",
   "metadata": {},
   "outputs": [],
   "source": [
    "# Step 2: Split the data into a training and a testing set, \n",
    "# with 70% for training and 30% for testing.\n",
    "X_train, X_test, y_train, y_test = train_test_split(X, y, test_size=0.3, \n",
    "                                                        random_state=0)"
   ]
  },
  {
   "cell_type": "code",
   "execution_count": 32,
   "id": "55d64f2c",
   "metadata": {},
   "outputs": [
    {
     "name": "stdout",
     "output_type": "stream",
     "text": [
      "(105, 4) (105,)\n"
     ]
    }
   ],
   "source": [
    "# Check shapes and confirm the ration 150 * 0.7 = 105\n",
    "print(X_train.shape, y_train.shape)"
   ]
  },
  {
   "cell_type": "code",
   "execution_count": 33,
   "id": "990730fd",
   "metadata": {},
   "outputs": [
    {
     "name": "stdout",
     "output_type": "stream",
     "text": [
      "(45, 4) (45,)\n"
     ]
    }
   ],
   "source": [
    "# Check shapes and confirm the ration 150 * 0.3 = 45\n",
    "print(X_test.shape, y_test.shape)"
   ]
  },
  {
   "cell_type": "code",
   "execution_count": 34,
   "id": "8f5aa5de",
   "metadata": {},
   "outputs": [
    {
     "data": {
      "text/plain": [
       "KNeighborsClassifier(n_neighbors=3)"
      ]
     },
     "execution_count": 34,
     "metadata": {},
     "output_type": "execute_result"
    }
   ],
   "source": [
    "# Step 3: Train the KNN model with K = 3 on the training set.\n",
    "# Lecture slide page 45\n",
    "from sklearn.neighbors import KNeighborsClassifier\n",
    "knn = KNeighborsClassifier(n_neighbors=3)\n",
    "knn.fit(X_train, y_train)"
   ]
  },
  {
   "cell_type": "code",
   "execution_count": 35,
   "id": "c1594d87",
   "metadata": {},
   "outputs": [
    {
     "name": "stdout",
     "output_type": "stream",
     "text": [
      "[2 1 0 2 0 2 0 1 1 1 2 1 1 1 1 0 1 1 0 0 2 1 0 0 2 0 0 1 1 0 2 1 0 2 2 1 0\n",
      " 2 1 1 2 0 2 0 0]\n"
     ]
    }
   ],
   "source": [
    "# Step 4: Evaluate the performance of the trained model on the test set by \n",
    "# computing (and displaying) the confusion matrix and the accuracy.\n",
    "y_pred = knn.predict(X_test)\n",
    "print(y_pred)"
   ]
  },
  {
   "cell_type": "code",
   "execution_count": 36,
   "id": "85229a63",
   "metadata": {},
   "outputs": [
    {
     "name": "stdout",
     "output_type": "stream",
     "text": [
      "[[16  0  0]\n",
      " [ 0 17  1]\n",
      " [ 0  0 11]]\n"
     ]
    }
   ],
   "source": [
    "# Confusion matrix\n",
    "# The metrics are in the sklearn.metrics submodule\n",
    "from sklearn.metrics import confusion_matrix\n",
    "print(confusion_matrix(y_test, y_pred))"
   ]
  },
  {
   "cell_type": "code",
   "execution_count": 37,
   "id": "faadff5b",
   "metadata": {},
   "outputs": [
    {
     "name": "stdout",
     "output_type": "stream",
     "text": [
      "0.9777777777777777\n"
     ]
    }
   ],
   "source": [
    "# Accuracy\n",
    "from sklearn.metrics import accuracy_score\n",
    "print(accuracy_score(y_test, y_pred))"
   ]
  },
  {
   "cell_type": "code",
   "execution_count": 38,
   "id": "216aeb02",
   "metadata": {},
   "outputs": [
    {
     "data": {
      "text/plain": [
       "0.9777777777777777"
      ]
     },
     "execution_count": 38,
     "metadata": {},
     "output_type": "execute_result"
    }
   ],
   "source": [
    "# You can calculate this manually\n",
    "# Which is what I prefer to do\n",
    "sum(y_pred==y_test)/len(y_pred)"
   ]
  },
  {
   "cell_type": "code",
   "execution_count": 39,
   "id": "4eaf264c",
   "metadata": {},
   "outputs": [
    {
     "name": "stdout",
     "output_type": "stream",
     "text": [
      "--------------------\n",
      "k = 10\n",
      "Confusion matrix: \n",
      "[[16  0  0]\n",
      " [ 0 17  1]\n",
      " [ 0  0 11]]\n",
      "Accuracy: 0.98\n",
      "--------------------\n",
      "--------------------\n",
      "k = 20\n",
      "Confusion matrix: \n",
      "[[16  0  0]\n",
      " [ 0 17  1]\n",
      " [ 0  0 11]]\n",
      "Accuracy: 0.98\n",
      "--------------------\n",
      "--------------------\n",
      "k = 40\n",
      "Confusion matrix: \n",
      "[[16  0  0]\n",
      " [ 0 15  3]\n",
      " [ 0  2  9]]\n",
      "Accuracy: 0.89\n",
      "--------------------\n"
     ]
    }
   ],
   "source": [
    "# Step 5: Set K to 10, 20 and 40, respectively, and repeat the training and \n",
    "# evaluating steps as did in Steps 3 and 4.\n",
    "kValues = [10, 20, 40]\n",
    "for eachK in kValues:\n",
    "    # Training\n",
    "    eachModel = KNeighborsClassifier(n_neighbors=eachK)\n",
    "    eachModel.fit(X_train, y_train)\n",
    "    # Testing\n",
    "    print('-'*20)\n",
    "    print('k =', eachK)\n",
    "    eachPred = eachModel.predict(X_test)\n",
    "    print('Confusion matrix: ')\n",
    "    print(confusion_matrix(y_test, eachPred))\n",
    "    print('Accuracy: %.2f' % accuracy_score(y_test, eachPred))\n",
    "    print('-'*20)"
   ]
  },
  {
   "cell_type": "code",
   "execution_count": 40,
   "id": "e7f7a582",
   "metadata": {},
   "outputs": [],
   "source": [
    "# Step 6: Compare the results obtained in Steps 4 and 5."
   ]
  },
  {
   "cell_type": "markdown",
   "id": "5099ec65",
   "metadata": {},
   "source": [
    "We can see the result is the same for k being 3, 10 and 20. But the model performance drops for k being 40. This could be due to when more neighbours are included, the nearby influence is averaged out, casuing a more smooth but mediocre prediction."
   ]
  }
 ],
 "metadata": {
  "kernelspec": {
   "display_name": "Python 3",
   "language": "python",
   "name": "python3"
  },
  "language_info": {
   "codemirror_mode": {
    "name": "ipython",
    "version": 3
   },
   "file_extension": ".py",
   "mimetype": "text/x-python",
   "name": "python",
   "nbconvert_exporter": "python",
   "pygments_lexer": "ipython3",
   "version": "3.8.8"
  }
 },
 "nbformat": 4,
 "nbformat_minor": 5
}
