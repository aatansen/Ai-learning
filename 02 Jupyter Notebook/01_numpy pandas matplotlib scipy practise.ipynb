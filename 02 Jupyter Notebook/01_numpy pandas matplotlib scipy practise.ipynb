{
 "cells": [
  {
   "cell_type": "code",
   "execution_count": 1,
   "metadata": {},
   "outputs": [],
   "source": [
    "import numpy as np\n",
    "list1 = [781, 650, 833, 641, 694, 99, 905, 547, 317, 971, 669, 162, 730, 951, 526, 402, 958, 361, 503, 142,\n",
    "         906, 370, 487, 132, 148, 579, 44, 216, 766, 723, 666, 482, 374, 525, 866, 591, 985, 506, 213, 894, 278, 201,\n",
    "         186, 822, 465, 948, 657, 805, 247, 115, 373, 249, 183, 925, 199, 800, 673, 21, 40, 138, 298, 709, 262, 986,\n",
    "         230, 736, 794, 783, 168, 378, 208, 539, 884, 634, 237, 764, 285, 414, 384, 807, 320, 128, 937, 726, 629, 73,\n",
    "         593, 785, 625, 63, 915, 654, 452, 47, 372, 648, 646, 762, 740, 631, 286, 112, 330, 721, 744, 770, 59, 189, 31,\n",
    "         344, 947, 36, 518, 647, 757, 282, 312, 266, 675, 389, 801, 270, 301, 336, 363, 563, 576, 369, 10, 259, 24,\n",
    "         225, 442, 919, 352, 720, 98, 375, 111, 848, 761, 792, 488, 255, 60, 787, 808, 581, 690, 869, 554, 136, 175,\n",
    "         295, 39, 719, 751, 467, 429, 566, 865, 550, 565, 638, 418, 398, 645, 52, 243, 885, 777, 426, 834, 354, 461,\n",
    "         468, 55, 711, 909, 961, 685, 567, 342, 436, 245, 767, 541, 845, 918, 131, 824, 416, 965, 297, 20, 934, 353,\n",
    "         166, 76, 737]\n",
    "\n",
    "list2 = ['black', 'black', 'yellow', 'yellow', 'yellow', 'blue', 'blue', 'yellow', 'blue', 'white', 'yellow', 'yellow',\n",
    "         'yellow', 'orange', 'green', 'black', 'white', 'white', 'blue', 'brown', 'brown', 'blue', 'green', 'blue', 'brown', 'white',\n",
    "         'blue', 'brown', 'blue', 'brown', 'brown', 'orange', 'white', 'red', 'green', 'brown', 'black', 'blue', 'brown', 'green',\n",
    "         'brown', 'yellow', 'orange', 'black', 'blue', 'white', 'blue', 'blue', 'red', 'yellow', 'yellow', 'black', 'blue', 'yellow',\n",
    "         'white', 'orange', 'orange', 'brown', 'red', 'orange', 'blue', 'blue', 'white', 'blue', 'yellow', 'black', 'red', 'white',\n",
    "         'white', 'green', 'white', 'orange', 'blue', 'orange', 'blue', 'red', 'red', 'red', 'red', 'orange', 'brown', 'white',\n",
    "         'black', 'green', 'yellow', 'black', 'orange', 'blue', 'green', 'brown', 'green', 'red', 'orange', 'yellow', 'blue',\n",
    "         'yellow', 'brown', 'orange', 'white', 'blue', 'white', 'yellow', 'orange', 'green', 'yellow', 'brown', 'red', 'brown'\n",
    "         'white', 'red', 'white', 'green', 'green', 'brown', 'white', 'yellow', 'black', 'white', 'white', 'orange', 'orange',\n",
    "         'white', 'white', 'red', 'black', 'blue', 'green', 'red', 'green', 'brown', 'red', 'red', 'white', 'orange', 'yellow',\n",
    "         'white', 'red', 'blue', 'green', 'green', 'blue', 'green', 'orange', 'blue', 'brown', 'red', 'white', 'red', 'orange',\n",
    "         'white', 'orange', 'yellow', 'brown', 'yellow', 'black', 'green', 'brown', 'yellow', 'orange', 'yellow', 'blue', 'red',\n",
    "         'blue', 'red', 'orange', 'blue', 'brown', 'yellow', 'black', 'yellow', 'black', 'black', 'red', 'green', 'black', 'black',\n",
    "         'black', 'green', 'black', 'black', 'yellow', 'red', 'green', 'red', 'green', 'white', 'orange', 'black', 'red', 'orange',\n",
    "         'white', 'green', 'blue', 'brown', 'yellow', 'orange', 'orange', 'orange', 'brown', 'blue', ]\n",
    "\n",
    "array1 = np.array(list1)\n",
    "array2 = np.array(list2)\n",
    "np.random.seed(5)\n",
    "array3 = np.random.random_sample(10000)"
   ]
  },
  {
   "cell_type": "code",
   "execution_count": 2,
   "metadata": {},
   "outputs": [
    {
     "name": "stdout",
     "output_type": "stream",
     "text": [
      "Mininum value\n",
      "10\n",
      "********************************************************************************\n",
      "Minimal value\n",
      "986\n",
      "********************************************************************************\n",
      "Mean value\n",
      "499.825\n",
      "********************************************************************************\n",
      "Median value\n",
      "504.5\n",
      "********************************************************************************\n",
      "Mode value\n",
      "ModeResult(mode=array([10]), count=array([1]))\n",
      "********************************************************************************\n",
      "Standard deviation\n",
      "281.2578432239713\n",
      "********************************************************************************\n",
      "20th and 80th percentiles\n",
      "215.4\n",
      "781.4000000000001\n",
      "********************************************************************************\n",
      "Quantiles (Q1, Q2 and Q3)\n",
      "261.25\n",
      "504.5\n",
      "745.75\n"
     ]
    }
   ],
   "source": [
    "import scipy.stats\n",
    "# Calculate mininum value \n",
    "print(\"Mininum value\")\n",
    "print(array1.min())\n",
    "print('*' *80)\n",
    "\n",
    "# Calculate maximal value\n",
    "print(\"Minimal value\")\n",
    "print(array1.max())\n",
    "print('*' *80)\n",
    "\n",
    "# Calculate mean value\n",
    "print(\"Mean value\")\n",
    "print(array1.mean())\n",
    "print('*' *80)\n",
    "\n",
    "# Calculate median value\n",
    "print(\"Median value\")\n",
    "print(np.median(array1))\n",
    "print('*' *80)\n",
    "\n",
    "# Calculate mode \n",
    "print(\"Mode value\")\n",
    "print(scipy.stats.mode(array1))\n",
    "print('*' *80)\n",
    "\n",
    "# Calculate standard deviation\n",
    "print(\"Standard deviation\")\n",
    "print(np.std(array1))\n",
    "print('*' *80)\n",
    "\n",
    "# Calculate 20th and 80th percentiles \n",
    "print(\"20th and 80th percentiles\")\n",
    "print(np.percentile(array1,20))\n",
    "print(np.percentile(array1,80))\n",
    "print('*' *80)\n",
    "\n",
    "# Calculate quantiles (Q1, Q2 and Q3)\n",
    "print(\"Quantiles (Q1, Q2 and Q3)\")\n",
    "print(np.quantile(array1,0.25))\n",
    "print(np.quantile(array1,0.50))\n",
    "print(np.quantile(array1,0.75))\n"
   ]
  },
  {
   "cell_type": "code",
   "execution_count": 3,
   "metadata": {},
   "outputs": [
    {
     "data": {
      "text/plain": [
       "(array([19, 19, 23, 22, 16, 19, 19, 26, 18, 19], dtype=int64),\n",
       " array([ 10. , 107.6, 205.2, 302.8, 400.4, 498. , 595.6, 693.2, 790.8,\n",
       "        888.4, 986. ]))"
      ]
     },
     "execution_count": 3,
     "metadata": {},
     "output_type": "execute_result"
    }
   ],
   "source": [
    "# Generate the histogram with 10 bins (in the forms of a tuple of two arrays and a figure)\n",
    "# You may use a numpy.histogram to generate a tuple of two arrays.\n",
    "np.histogram(array1, bins=10)"
   ]
  },
  {
   "cell_type": "code",
   "execution_count": 4,
   "metadata": {},
   "outputs": [
    {
     "data": {
      "image/png": "[encoded data removed]",
      "text/plain": [
       "<Figure size 432x288 with 1 Axes>"
      ]
     },
     "metadata": {
      "needs_background": "light"
     },
     "output_type": "display_data"
    }
   ],
   "source": [
    "%matplotlib inline\n",
    "# You may use a matplotlib.pyplot.hist to draw the histogram figure.\n",
    "import matplotlib.pyplot as plt\n",
    "plt.hist(array1, bins=10)\n",
    "plt.show()"
   ]
  },
  {
   "cell_type": "markdown",
   "metadata": {},
   "source": [
    "### Please calculate descriptive statistics and generate the frequesncy distribution on array2"
   ]
  },
  {
   "cell_type": "code",
   "execution_count": 5,
   "metadata": {},
   "outputs": [
    {
     "data": {
      "text/plain": [
       "ModeResult(mode=array(['blue'], dtype='<U10'), count=array([30]))"
      ]
     },
     "execution_count": 5,
     "metadata": {},
     "output_type": "execute_result"
    }
   ],
   "source": [
    "# Calculate mode \n",
    "scipy.stats.mode(array2)"
   ]
  },
  {
   "cell_type": "code",
   "execution_count": 6,
   "metadata": {},
   "outputs": [
    {
     "name": "stdout",
     "output_type": "stream",
     "text": [
      "Counter({'blue': 30, 'yellow': 27, 'white': 26, 'orange': 26, 'red': 24, 'green': 22, 'brown': 22, 'black': 21, 'brownwhite': 1})\n"
     ]
    }
   ],
   "source": [
    "# Generate the frequency distribution (in the forms of a tuple of two arrays and a figure)\n",
    "from collections import Counter\n",
    "colour_counts = Counter(array2)\n",
    "print(colour_counts)"
   ]
  },
  {
   "cell_type": "code",
   "execution_count": 7,
   "metadata": {},
   "outputs": [
    {
     "data": {
      "text/plain": [
       "<AxesSubplot:>"
      ]
     },
     "execution_count": 7,
     "metadata": {},
     "output_type": "execute_result"
    },
    {
     "data": {
      "image/png": "[encoded data removed]",
      "text/plain": [
       "<Figure size 432x288 with 1 Axes>"
      ]
     },
     "metadata": {
      "needs_background": "light"
     },
     "output_type": "display_data"
    }
   ],
   "source": [
    "import pandas \n",
    "df = pandas.DataFrame.from_dict(colour_counts,orient='index')\n",
    "df.plot(kind='bar',legend=False)"
   ]
  },
  {
   "cell_type": "code",
   "execution_count": 8,
   "metadata": {},
   "outputs": [
    {
     "data": {
      "text/plain": [
       "(10,)"
      ]
     },
     "execution_count": 8,
     "metadata": {},
     "output_type": "execute_result"
    }
   ],
   "source": [
    "import numpy as np\n",
    "import matplotlib.pyplot as plt\n",
    "\n",
    "# Take 10 samples from a Normal distribution\n",
    "# Mean (loc)= 3\n",
    "# Std (scale)= 2\n",
    "# Number of samples (size)= 10\n",
    "samples = np.random.normal(loc=3, scale=2, size=10)\n",
    "samples.shape\n"
   ]
  },
  {
   "cell_type": "code",
   "execution_count": 9,
   "metadata": {},
   "outputs": [
    {
     "data": {
      "image/png": "[encoded data removed]",
      "text/plain": [
       "<Figure size 432x288 with 1 Axes>"
      ]
     },
     "metadata": {
      "needs_background": "light"
     },
     "output_type": "display_data"
    }
   ],
   "source": [
    "%matplotlib inline\n",
    "# Plot the histogram\n",
    "plt.hist(samples, bins=50)\n",
    "plt.show()"
   ]
  },
  {
   "cell_type": "code",
   "execution_count": 10,
   "metadata": {},
   "outputs": [
    {
     "data": {
      "image/png": "[encoded data removed]",
      "text/plain": [
       "<Figure size 432x288 with 1 Axes>"
      ]
     },
     "metadata": {
      "needs_background": "light"
     },
     "output_type": "display_data"
    }
   ],
   "source": [
    "# increase the samples to 50 \n",
    "samples = np.random.normal(loc=3, scale=2, size=50)\n",
    "plt.hist(samples, bins=50)\n",
    "plt.show()"
   ]
  },
  {
   "cell_type": "code",
   "execution_count": 11,
   "metadata": {},
   "outputs": [
    {
     "data": {
      "image/png": "[encoded data removed]",
      "text/plain": [
       "<Figure size 432x288 with 1 Axes>"
      ]
     },
     "metadata": {
      "needs_background": "light"
     },
     "output_type": "display_data"
    }
   ],
   "source": [
    "# increase the samples to 100\n",
    "samples = np.random.normal(loc=3, scale=2, size=100)\n",
    "plt.hist(samples, bins=50)\n",
    "plt.show()"
   ]
  },
  {
   "cell_type": "code",
   "execution_count": 12,
   "metadata": {},
   "outputs": [
    {
     "data": {
      "image/png": "[encoded data removed]",
      "text/plain": [
       "<Figure size 432x288 with 1 Axes>"
      ]
     },
     "metadata": {
      "needs_background": "light"
     },
     "output_type": "display_data"
    }
   ],
   "source": [
    "# increase the samples to 200\n",
    "samples = np.random.normal(loc=3, scale=2, size=200)\n",
    "plt.hist(samples, bins=50)\n",
    "plt.show()"
   ]
  },
  {
   "cell_type": "code",
   "execution_count": 13,
   "metadata": {},
   "outputs": [
    {
     "data": {
      "image/png": "[encoded data removed]",
      "text/plain": [
       "<Figure size 432x288 with 1 Axes>"
      ]
     },
     "metadata": {
      "needs_background": "light"
     },
     "output_type": "display_data"
    }
   ],
   "source": [
    "# increase the samples to 1000\n",
    "samples = np.random.normal(loc=3, scale=2, size=1000)\n",
    "plt.hist(samples, bins=50)\n",
    "plt.show()"
   ]
  },
  {
   "cell_type": "code",
   "execution_count": 14,
   "metadata": {},
   "outputs": [
    {
     "name": "stdout",
     "output_type": "stream",
     "text": [
      "2.9983067723495878\n"
     ]
    }
   ],
   "source": [
    "# Examine the mean of samples \n",
    "print(samples.mean())\n"
   ]
  },
  {
   "cell_type": "code",
   "execution_count": 15,
   "metadata": {},
   "outputs": [
    {
     "name": "stdout",
     "output_type": "stream",
     "text": [
      "1.9501358033877938\n"
     ]
    }
   ],
   "source": [
    "# Examine the std of samples \n",
    "print(samples.std())"
   ]
  },
  {
   "cell_type": "code",
   "execution_count": 16,
   "metadata": {},
   "outputs": [
    {
     "name": "stdout",
     "output_type": "stream",
     "text": [
      "{'commit_hash': 'e9b2ec3bc',\n",
      " 'commit_source': 'installation',\n",
      " 'default_encoding': 'utf-8',\n",
      " 'ipython_path': 'C:\\\\Users\\\\Tansen\\\\AppData\\\\Roaming\\\\Python\\\\Python310\\\\site-packages\\\\IPython',\n",
      " 'ipython_version': '8.1.1',\n",
      " 'os_name': 'nt',\n",
      " 'platform': 'Windows-10-10.0.19044-SP0',\n",
      " 'sys_executable': 'C:\\\\Users\\\\Tansen\\\\AppData\\\\Local\\\\Programs\\\\Python\\\\Python310\\\\python.exe',\n",
      " 'sys_platform': 'win32',\n",
      " 'sys_version': '3.10.2 (tags/v3.10.2:a58ebcc, Jan 17 2022, 14:12:15) [MSC '\n",
      "                'v.1929 64 bit (AMD64)]'}\n"
     ]
    }
   ],
   "source": [
    "import IPython\n",
    "print(IPython.sys_info())"
   ]
  }
 ],
 "metadata": {
  "interpreter": {
   "hash": "c6f49705505efbbefa8e65d66a2b2a4d29eefe2b20eac14930bc97fad1fb47f0"
  },
  "kernelspec": {
   "display_name": "Python 3.10.2 64-bit",
   "language": "python",
   "name": "python3"
  },
  "language_info": {
   "codemirror_mode": {
    "name": "ipython",
    "version": 3
   },
   "file_extension": ".py",
   "mimetype": "text/x-python",
   "name": "python",
   "nbconvert_exporter": "python",
   "pygments_lexer": "ipython3",
   "version": "3.10.2"
  },
  "orig_nbformat": 4
 },
 "nbformat": 4,
 "nbformat_minor": 2
}
